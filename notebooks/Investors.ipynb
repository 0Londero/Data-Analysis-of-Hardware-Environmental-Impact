{
 "cells": [
  {
   "cell_type": "markdown",
   "id": "investors_intro",
   "metadata": {},
   "source": [
    "### Investors: Profitable Insights for E-waste Recycling Companies\n",
    "This notebook aims to identify profitable insights for e-waste recycling companies by analyzing the `boavizta-data-us` dataset. The focus will be on correlations that highlight opportunities for investment in sustainable hardware lifecycle management."
   ]
  },
  {
   "cell_type": "markdown",
   "id": "project_libraries",
   "metadata": {},
   "source": [
    "### Project Libraries"
   ]
  },
  {
   "cell_type": "code",
   "execution_count": 189,
   "id": "initial_imports",
   "metadata": {},
   "outputs": [],
   "source": [
    "import matplotlib.pyplot as plt\n",
    "import scipy.stats as stats\n",
    "import seaborn as sns\n",
    "import pandas as pd\n",
    "import numpy as np\n",
    "import scikit_posthocs as sp\n"
   ]
  },
  {
   "cell_type": "markdown",
   "id": "reading_data",
   "metadata": {},
   "source": [
    "### Reading the data"
   ]
  },
  {
   "cell_type": "code",
   "execution_count": 190,
   "id": "load_data",
   "metadata": {},
   "outputs": [],
   "source": [
    "df = pd.read_csv(r\"../data/boavizta-data-us.csv\")"
   ]
  },
  {
   "cell_type": "markdown",
   "id": "data_info",
   "metadata": {},
   "source": [
    "### Showcasing some useful information for better understanding of the data"
   ]
  },
  {
   "cell_type": "code",
   "execution_count": 191,
   "id": "09b998a2",
   "metadata": {},
   "outputs": [
    {
     "data": {
      "text/plain": [
       "(1226, 32)"
      ]
     },
     "execution_count": 191,
     "metadata": {},
     "output_type": "execute_result"
    }
   ],
   "source": [
    "df.shape"
   ]
  },
  {
   "cell_type": "code",
   "execution_count": 192,
   "id": "df_head",
   "metadata": {},
   "outputs": [
    {
     "data": {
      "text/html": [
       "<div>\n",
       "<style scoped>\n",
       "    .dataframe tbody tr th:only-of-type {\n",
       "        vertical-align: middle;\n",
       "    }\n",
       "\n",
       "    .dataframe tbody tr th {\n",
       "        vertical-align: top;\n",
       "    }\n",
       "\n",
       "    .dataframe thead th {\n",
       "        text-align: right;\n",
       "    }\n",
       "</style>\n",
       "<table border=\"1\" class=\"dataframe\">\n",
       "  <thead>\n",
       "    <tr style=\"text-align: right;\">\n",
       "      <th></th>\n",
       "      <th>manufacturer</th>\n",
       "      <th>name</th>\n",
       "      <th>category</th>\n",
       "      <th>subcategory</th>\n",
       "      <th>gwp_total</th>\n",
       "      <th>gwp_use_ratio</th>\n",
       "      <th>yearly_tec</th>\n",
       "      <th>lifetime</th>\n",
       "      <th>use_location</th>\n",
       "      <th>report_date</th>\n",
       "      <th>...</th>\n",
       "      <th>added_date</th>\n",
       "      <th>add_method</th>\n",
       "      <th>gwp_transport_ratio</th>\n",
       "      <th>gwp_eol_ratio</th>\n",
       "      <th>gwp_electronics_ratio</th>\n",
       "      <th>gwp_battery_ratio</th>\n",
       "      <th>gwp_hdd_ratio</th>\n",
       "      <th>gwp_ssd_ratio</th>\n",
       "      <th>gwp_othercomponents_ratio</th>\n",
       "      <th>comment</th>\n",
       "    </tr>\n",
       "  </thead>\n",
       "  <tbody>\n",
       "    <tr>\n",
       "      <th>0</th>\n",
       "      <td>Apple</td>\n",
       "      <td>13-inch MacBook Air (M1 CPU) 256GB - 2020</td>\n",
       "      <td>Workplace</td>\n",
       "      <td>Laptop</td>\n",
       "      <td>161.0</td>\n",
       "      <td>0.15</td>\n",
       "      <td>NaN</td>\n",
       "      <td>3.0</td>\n",
       "      <td>WW</td>\n",
       "      <td>November 2020</td>\n",
       "      <td>...</td>\n",
       "      <td>27-05-2022</td>\n",
       "      <td>Manual</td>\n",
       "      <td>0.08</td>\n",
       "      <td>NaN</td>\n",
       "      <td>NaN</td>\n",
       "      <td>NaN</td>\n",
       "      <td>NaN</td>\n",
       "      <td>NaN</td>\n",
       "      <td>NaN</td>\n",
       "      <td>NaN</td>\n",
       "    </tr>\n",
       "    <tr>\n",
       "      <th>1</th>\n",
       "      <td>Apple</td>\n",
       "      <td>13-inch MacBook Air (M1 CPU) 512GB - 2020</td>\n",
       "      <td>Workplace</td>\n",
       "      <td>Laptop</td>\n",
       "      <td>181.0</td>\n",
       "      <td>0.15</td>\n",
       "      <td>NaN</td>\n",
       "      <td>3.0</td>\n",
       "      <td>WW</td>\n",
       "      <td>November 2020</td>\n",
       "      <td>...</td>\n",
       "      <td>27-05-2022</td>\n",
       "      <td>Manual</td>\n",
       "      <td>0.08</td>\n",
       "      <td>NaN</td>\n",
       "      <td>NaN</td>\n",
       "      <td>NaN</td>\n",
       "      <td>NaN</td>\n",
       "      <td>NaN</td>\n",
       "      <td>NaN</td>\n",
       "      <td>NaN</td>\n",
       "    </tr>\n",
       "    <tr>\n",
       "      <th>2</th>\n",
       "      <td>Apple</td>\n",
       "      <td>13-inch MacBook Air with Retina display (1.1GH...</td>\n",
       "      <td>Workplace</td>\n",
       "      <td>Laptop</td>\n",
       "      <td>174.0</td>\n",
       "      <td>0.15</td>\n",
       "      <td>NaN</td>\n",
       "      <td>3.0</td>\n",
       "      <td>WW</td>\n",
       "      <td>March 2020</td>\n",
       "      <td>...</td>\n",
       "      <td>01-11-2020</td>\n",
       "      <td>Initial Parsing</td>\n",
       "      <td>0.07</td>\n",
       "      <td>NaN</td>\n",
       "      <td>NaN</td>\n",
       "      <td>NaN</td>\n",
       "      <td>NaN</td>\n",
       "      <td>NaN</td>\n",
       "      <td>NaN</td>\n",
       "      <td>NaN</td>\n",
       "    </tr>\n",
       "    <tr>\n",
       "      <th>3</th>\n",
       "      <td>Apple</td>\n",
       "      <td>13-inch MacBook Air with Retina display (1.1GH...</td>\n",
       "      <td>Workplace</td>\n",
       "      <td>Laptop</td>\n",
       "      <td>202.0</td>\n",
       "      <td>0.15</td>\n",
       "      <td>NaN</td>\n",
       "      <td>3.0</td>\n",
       "      <td>WW</td>\n",
       "      <td>March 2020</td>\n",
       "      <td>...</td>\n",
       "      <td>01-11-2020</td>\n",
       "      <td>Initial Parsing</td>\n",
       "      <td>0.07</td>\n",
       "      <td>NaN</td>\n",
       "      <td>NaN</td>\n",
       "      <td>NaN</td>\n",
       "      <td>NaN</td>\n",
       "      <td>NaN</td>\n",
       "      <td>NaN</td>\n",
       "      <td>NaN</td>\n",
       "    </tr>\n",
       "    <tr>\n",
       "      <th>4</th>\n",
       "      <td>Apple</td>\n",
       "      <td>13-inch MacBook Pro (1.4GHz quad-core CPU) 256...</td>\n",
       "      <td>Workplace</td>\n",
       "      <td>Laptop</td>\n",
       "      <td>217.0</td>\n",
       "      <td>0.17</td>\n",
       "      <td>NaN</td>\n",
       "      <td>3.0</td>\n",
       "      <td>WW</td>\n",
       "      <td>May 2020</td>\n",
       "      <td>...</td>\n",
       "      <td>01-11-2020</td>\n",
       "      <td>Initial Parsing</td>\n",
       "      <td>0.06</td>\n",
       "      <td>NaN</td>\n",
       "      <td>NaN</td>\n",
       "      <td>NaN</td>\n",
       "      <td>NaN</td>\n",
       "      <td>NaN</td>\n",
       "      <td>NaN</td>\n",
       "      <td>NaN</td>\n",
       "    </tr>\n",
       "  </tbody>\n",
       "</table>\n",
       "<p>5 rows × 32 columns</p>\n",
       "</div>"
      ],
      "text/plain": [
       "  manufacturer                                               name   category  \\\n",
       "0        Apple          13-inch MacBook Air (M1 CPU) 256GB - 2020  Workplace   \n",
       "1        Apple          13-inch MacBook Air (M1 CPU) 512GB - 2020  Workplace   \n",
       "2        Apple  13-inch MacBook Air with Retina display (1.1GH...  Workplace   \n",
       "3        Apple  13-inch MacBook Air with Retina display (1.1GH...  Workplace   \n",
       "4        Apple  13-inch MacBook Pro (1.4GHz quad-core CPU) 256...  Workplace   \n",
       "\n",
       "  subcategory  gwp_total  gwp_use_ratio  yearly_tec  lifetime use_location  \\\n",
       "0      Laptop      161.0           0.15         NaN       3.0           WW   \n",
       "1      Laptop      181.0           0.15         NaN       3.0           WW   \n",
       "2      Laptop      174.0           0.15         NaN       3.0           WW   \n",
       "3      Laptop      202.0           0.15         NaN       3.0           WW   \n",
       "4      Laptop      217.0           0.17         NaN       3.0           WW   \n",
       "\n",
       "     report_date  ...  added_date       add_method  gwp_transport_ratio  \\\n",
       "0  November 2020  ...  27-05-2022           Manual                 0.08   \n",
       "1  November 2020  ...  27-05-2022           Manual                 0.08   \n",
       "2     March 2020  ...  01-11-2020  Initial Parsing                 0.07   \n",
       "3     March 2020  ...  01-11-2020  Initial Parsing                 0.07   \n",
       "4       May 2020  ...  01-11-2020  Initial Parsing                 0.06   \n",
       "\n",
       "   gwp_eol_ratio  gwp_electronics_ratio gwp_battery_ratio  gwp_hdd_ratio  \\\n",
       "0            NaN                    NaN               NaN            NaN   \n",
       "1            NaN                    NaN               NaN            NaN   \n",
       "2            NaN                    NaN               NaN            NaN   \n",
       "3            NaN                    NaN               NaN            NaN   \n",
       "4            NaN                    NaN               NaN            NaN   \n",
       "\n",
       "  gwp_ssd_ratio gwp_othercomponents_ratio  comment  \n",
       "0           NaN                       NaN      NaN  \n",
       "1           NaN                       NaN      NaN  \n",
       "2           NaN                       NaN      NaN  \n",
       "3           NaN                       NaN      NaN  \n",
       "4           NaN                       NaN      NaN  \n",
       "\n",
       "[5 rows x 32 columns]"
      ]
     },
     "execution_count": 192,
     "metadata": {},
     "output_type": "execute_result"
    }
   ],
   "source": [
    "df.head()"
   ]
  },
  {
   "cell_type": "code",
   "execution_count": 193,
   "id": "1f25f918",
   "metadata": {},
   "outputs": [
    {
     "data": {
      "text/plain": [
       "np.int64(782)"
      ]
     },
     "execution_count": 193,
     "metadata": {},
     "output_type": "execute_result"
    }
   ],
   "source": [
    "df_nan = df[\"gwp_eol_ratio\"].isna().sum()\n",
    "df_nan"
   ]
  },
  {
   "cell_type": "code",
   "execution_count": 194,
   "id": "df_info",
   "metadata": {},
   "outputs": [
    {
     "name": "stdout",
     "output_type": "stream",
     "text": [
      "<class 'pandas.core.frame.DataFrame'>\n",
      "RangeIndex: 1226 entries, 0 to 1225\n",
      "Data columns (total 32 columns):\n",
      " #   Column                     Non-Null Count  Dtype  \n",
      "---  ------                     --------------  -----  \n",
      " 0   manufacturer               1226 non-null   object \n",
      " 1   name                       1226 non-null   object \n",
      " 2   category                   1226 non-null   object \n",
      " 3   subcategory                1226 non-null   object \n",
      " 4   gwp_total                  1226 non-null   float64\n",
      " 5   gwp_use_ratio              1151 non-null   float64\n",
      " 6   yearly_tec                 734 non-null    float64\n",
      " 7   lifetime                   1193 non-null   float64\n",
      " 8   use_location               1113 non-null   object \n",
      " 9   report_date                1211 non-null   object \n",
      " 10  sources                    1226 non-null   object \n",
      " 11  sources_hash               1226 non-null   object \n",
      " 12  gwp_error_ratio            1022 non-null   float64\n",
      " 13  gwp_manufacturing_ratio    757 non-null    float64\n",
      " 14  weight                     1035 non-null   float64\n",
      " 15  assembly_location          1017 non-null   object \n",
      " 16  screen_size                873 non-null    float64\n",
      " 17  server_type                64 non-null     object \n",
      " 18  hard_drive                 153 non-null    object \n",
      " 19  memory                     61 non-null     float64\n",
      " 20  number_cpu                 53 non-null     float64\n",
      " 21  height                     0 non-null      float64\n",
      " 22  added_date                 1226 non-null   object \n",
      " 23  add_method                 1226 non-null   object \n",
      " 24  gwp_transport_ratio        487 non-null    float64\n",
      " 25  gwp_eol_ratio              444 non-null    float64\n",
      " 26  gwp_electronics_ratio      10 non-null     float64\n",
      " 27  gwp_battery_ratio          0 non-null      float64\n",
      " 28  gwp_hdd_ratio              0 non-null      float64\n",
      " 29  gwp_ssd_ratio              10 non-null     float64\n",
      " 30  gwp_othercomponents_ratio  10 non-null     float64\n",
      " 31  comment                    17 non-null     object \n",
      "dtypes: float64(18), object(14)\n",
      "memory usage: 306.6+ KB\n"
     ]
    }
   ],
   "source": [
    "df.info()"
   ]
  },
  {
   "cell_type": "code",
   "execution_count": 195,
   "id": "df_columns",
   "metadata": {},
   "outputs": [
    {
     "data": {
      "text/plain": [
       "Index(['manufacturer', 'name', 'category', 'subcategory', 'gwp_total',\n",
       "       'gwp_use_ratio', 'yearly_tec', 'lifetime', 'use_location',\n",
       "       'report_date', 'sources', 'sources_hash', 'gwp_error_ratio',\n",
       "       'gwp_manufacturing_ratio', 'weight', 'assembly_location', 'screen_size',\n",
       "       'server_type', 'hard_drive', 'memory', 'number_cpu', 'height',\n",
       "       'added_date', 'add_method', 'gwp_transport_ratio', 'gwp_eol_ratio',\n",
       "       'gwp_electronics_ratio', 'gwp_battery_ratio', 'gwp_hdd_ratio',\n",
       "       'gwp_ssd_ratio', 'gwp_othercomponents_ratio', 'comment'],\n",
       "      dtype='object')"
      ]
     },
     "execution_count": 195,
     "metadata": {},
     "output_type": "execute_result"
    }
   ],
   "source": [
    "df.columns"
   ]
  },
  {
   "cell_type": "markdown",
   "id": "data_cleaning",
   "metadata": {},
   "source": [
    "### Cleaning the data\n",
    "1. Dropping some columns that will not be used for the analysis"
   ]
  },
  {
   "cell_type": "code",
   "execution_count": 196,
   "id": "f5f46bc1",
   "metadata": {},
   "outputs": [
    {
     "data": {
      "text/plain": [
       "manufacturer                    0\n",
       "name                            0\n",
       "category                        0\n",
       "subcategory                     0\n",
       "gwp_total                       0\n",
       "gwp_use_ratio                  75\n",
       "yearly_tec                    492\n",
       "lifetime                       33\n",
       "use_location                  113\n",
       "report_date                    15\n",
       "sources                         0\n",
       "sources_hash                    0\n",
       "gwp_error_ratio               204\n",
       "gwp_manufacturing_ratio       469\n",
       "weight                        191\n",
       "assembly_location             209\n",
       "screen_size                   353\n",
       "server_type                  1162\n",
       "hard_drive                   1073\n",
       "memory                       1165\n",
       "number_cpu                   1173\n",
       "height                       1226\n",
       "added_date                      0\n",
       "add_method                      0\n",
       "gwp_transport_ratio           739\n",
       "gwp_eol_ratio                 782\n",
       "gwp_electronics_ratio        1216\n",
       "gwp_battery_ratio            1226\n",
       "gwp_hdd_ratio                1226\n",
       "gwp_ssd_ratio                1216\n",
       "gwp_othercomponents_ratio    1216\n",
       "comment                      1209\n",
       "dtype: int64"
      ]
     },
     "execution_count": 196,
     "metadata": {},
     "output_type": "execute_result"
    }
   ],
   "source": [
    "df.isnull().sum()"
   ]
  },
  {
   "cell_type": "code",
   "execution_count": 197,
   "id": "drop_columns",
   "metadata": {},
   "outputs": [],
   "source": [
    "df.drop(columns = [\n",
    "    'sources', 'server_type', 'hard_drive', 'memory', 'number_cpu', 'height', \n",
    "    'added_date', 'add_method', 'comment', 'sources_hash', 'report_date',\n",
    "    'screen_size', 'use_location'\n",
    "], inplace=True)"
   ]
  },
  {
   "cell_type": "code",
   "execution_count": 198,
   "id": "df_columns_after_drop",
   "metadata": {},
   "outputs": [
    {
     "data": {
      "text/plain": [
       "Index(['manufacturer', 'name', 'category', 'subcategory', 'gwp_total',\n",
       "       'gwp_use_ratio', 'yearly_tec', 'lifetime', 'gwp_error_ratio',\n",
       "       'gwp_manufacturing_ratio', 'weight', 'assembly_location',\n",
       "       'gwp_transport_ratio', 'gwp_eol_ratio', 'gwp_electronics_ratio',\n",
       "       'gwp_battery_ratio', 'gwp_hdd_ratio', 'gwp_ssd_ratio',\n",
       "       'gwp_othercomponents_ratio'],\n",
       "      dtype='object')"
      ]
     },
     "execution_count": 198,
     "metadata": {},
     "output_type": "execute_result"
    }
   ],
   "source": [
    "df.columns"
   ]
  },
  {
   "cell_type": "markdown",
   "id": "correlation_analysis_intro",
   "metadata": {},
   "source": [
    "### Correlation Analysis for Investors\n",
    "- This section focuses on identifying correlations that can reveal profitable insights for e-waste recycling companies. We will look for relationships between hardware characteristics and environmental impact metrics that suggest opportunities for improved recycling, material recovery, or extended product lifecycles."
   ]
  },
  {
   "cell_type": "code",
   "execution_count": 199,
   "id": "evaluating_strength_function",
   "metadata": {},
   "outputs": [],
   "source": [
    "def evaluating_strength(correlation_coefficient):\n",
    "    abs_r = abs(correlation_coefficient)\n",
    "    if correlation_coefficient == 0:\n",
    "        return \"No correlation\"\n",
    "    elif 0 < abs_r < 0.3:\n",
    "        return \"Weak correlation (linear relationship is very weak or negligible)\"\n",
    "    elif 0.3 <= abs_r < 0.5:\n",
    "        return \"Moderate correlation\"\n",
    "    elif 0.5 <= abs_r < 0.7:\n",
    "        return \"Strong correlation\"\n",
    "    elif 0.7 <= abs_r < 1:\n",
    "        return \"Very strong correlation\"\n",
    "    elif abs_r == 1:\n",
    "        return \"Perfect correlation\"\n",
    "    else:\n",
    "        return \"Invalid value for r\""
   ]
  },
  {
   "cell_type": "markdown",
   "id": "704f7c46",
   "metadata": {},
   "source": [
    "| Hypothesis                                                                | Variables(s) Involved               | Variable(s) Type(s)         | Test(s)                  |\n",
    "|---------------------------------------------------------------------------|-------------------------------------|------------------------|-------------------------|\n",
    "| (H1) Higher `gwp_total` correlates with higher `weight` | `gwp_total`, `weight` | Continuous/ Continuous |Pearson correlation test |"
   ]
  },
  {
   "cell_type": "markdown",
   "id": "hypothesis_1",
   "metadata": {},
   "source": [
    "- **Insight for Investors:** Devices with higher total environmental impact and greater weight might indicate significant material recovery opportunities. Investing in advanced recycling technologies for such devices could yield higher returns due to the larger volume of recoverable materials."
   ]
  },
  {
   "cell_type": "markdown",
   "id": "83f374da",
   "metadata": {},
   "source": [
    "##### Creating a new variable based on gwp_total and removing outliers"
   ]
  },
  {
   "cell_type": "code",
   "execution_count": 200,
   "id": "d60b601e",
   "metadata": {},
   "outputs": [
    {
     "data": {
      "text/plain": [
       "(1226, 19)"
      ]
     },
     "execution_count": 200,
     "metadata": {},
     "output_type": "execute_result"
    }
   ],
   "source": [
    "df.shape"
   ]
  },
  {
   "cell_type": "code",
   "execution_count": 201,
   "id": "ff433277",
   "metadata": {},
   "outputs": [
    {
     "name": "stdout",
     "output_type": "stream",
     "text": [
      "1043.8162243066886\n",
      "259.0\n",
      "536.5\n",
      "70.0\n",
      "5335.0\n",
      "<class 'pandas.core.series.Series'>\n",
      "RangeIndex: 1226 entries, 0 to 1225\n",
      "Series name: gwp_total\n",
      "Non-Null Count  Dtype  \n",
      "--------------  -----  \n",
      "1226 non-null   float64\n",
      "dtypes: float64(1)\n",
      "memory usage: 9.7 KB\n",
      "None\n"
     ]
    }
   ],
   "source": [
    "print(df[\"gwp_total\"].mean())\n",
    "print(df[\"gwp_total\"].quantile(0.25))\n",
    "print(df[\"gwp_total\"].quantile(0.75))\n",
    "print(df[\"gwp_total\"].quantile(0.05))\n",
    "print(df[\"gwp_total\"].quantile(0.95))\n",
    "print(df[\"gwp_total\"].info())\n"
   ]
  },
  {
   "cell_type": "code",
   "execution_count": 202,
   "id": "6d7c2187",
   "metadata": {},
   "outputs": [
    {
     "name": "stdout",
     "output_type": "stream",
     "text": [
      "\n",
      "Value counts for Emissions_Label:\n",
      "Emissions_Label\n",
      "Moderate Emissions    615\n",
      "Low Emissions         549\n",
      "High Emissions         62\n",
      "Name: count, dtype: int64\n",
      "Outliers in gwp_total handled by capping.\n",
      "Outliers in gwp_use_ratio handled by capping.\n",
      "Outliers in yearly_tec handled by capping.\n",
      "Outliers in lifetime handled by capping.\n",
      "Outliers in gwp_error_ratio handled by capping.\n",
      "Outliers in gwp_manufacturing_ratio handled by capping.\n",
      "Outliers in weight handled by capping.\n",
      "Outliers in gwp_transport_ratio handled by capping.\n",
      "Outliers in gwp_eol_ratio handled by capping.\n",
      "Outliers in gwp_electronics_ratio handled by capping.\n",
      "Outliers in gwp_battery_ratio handled by capping.\n",
      "Outliers in gwp_hdd_ratio handled by capping.\n",
      "Outliers in gwp_ssd_ratio handled by capping.\n",
      "Outliers in gwp_othercomponents_ratio handled by capping.\n"
     ]
    }
   ],
   "source": [
    "def define_emissions(row):\n",
    "    if row[\"gwp_total\"] > 5335:\n",
    "        return \"High Emissions\"\n",
    "    elif row[\"gwp_total\"] >= 259 and row[\"gwp_total\"] <= 536.5:\n",
    "        return \"Moderate Emissions\"\n",
    "    else:\n",
    "        return \"Low Emissions\"\n",
    "    \n",
    "df[\"Emissions_Label\"] = df.apply(define_emissions, axis=1)\n",
    "print(\"\\nValue counts for Emissions_Label:\")\n",
    "print(df[\"Emissions_Label\"].value_counts())\n",
    "\n",
    "# Target variable for classification (1 for Dry, 0 for Not Dry)\n",
    "y = (df[\"subcategory\"] == \"Emissions_Label\").astype(int)\n",
    "# Features for classification (excluding the target variable)\n",
    "\n",
    "# Features (excluding original Weather Type and the new Dryness_Label_Wildfire)\n",
    "x = df.drop([\"subcategory\", \"Emissions_Label\"], axis=1)\n",
    "\n",
    "numerical_features = x.select_dtypes(include=np.number).columns\n",
    "\n",
    "# Outlier Handling (Capping using IQR method)\n",
    "# This approach helps to mitigate the impact of extreme values without removing data points,\n",
    "# which is often preferred in environmental data where outliers might represent real, albeit rare, events.\n",
    "for col in numerical_features:\n",
    "    Q1 = df[col].quantile(0.05)\n",
    "    Q3 = df[col].quantile(0.95)\n",
    "    IQR = Q3 - Q1\n",
    "    lower_bound = Q1 - 1.5 * IQR\n",
    "    upper_bound = Q3 + 1.5 * IQR\n",
    "    df[col] = np.where(df[col] < lower_bound, lower_bound, df[col])\n",
    "    df[col] = np.where(df[col] > upper_bound, upper_bound, df[col])\n",
    "    print(f\"Outliers in {col} handled by capping.\")"
   ]
  },
  {
   "cell_type": "code",
   "execution_count": 203,
   "id": "h1_correlation",
   "metadata": {},
   "outputs": [
    {
     "name": "stdout",
     "output_type": "stream",
     "text": [
      "Pearson correlation (gwp_total vs weight): 0.651 (p=0.000)\n",
      "Strength: Strong correlation\n"
     ]
    }
   ],
   "source": [
    "# Fill missing values with subcategory averages, then category averages, then drop remaining NaNs\n",
    "df['gwp_total'] = df['gwp_total'].fillna(df.groupby('subcategory')['gwp_total'].transform('mean'))\n",
    "df['weight'] = df['weight'].fillna(df.groupby('subcategory')['weight'].transform('mean'))\n",
    "df['gwp_total'] = df['gwp_total'].fillna(df.groupby('category')['gwp_total'].transform('mean'))\n",
    "df['weight'] = df['weight'].fillna(df.groupby('category')['weight'].transform('mean'))\n",
    "df_clean_h1 = df[['gwp_total', 'weight']].dropna()\n",
    "\n",
    "pearson_corr_h1, pearson_p_h1 = stats.pearsonr(df_clean_h1['gwp_total'], df_clean_h1['weight'])\n",
    "print(f'Pearson correlation (gwp_total vs weight): {pearson_corr_h1:.3f} (p={pearson_p_h1:.3f})')\n",
    "print(f'Strength: {evaluating_strength(pearson_corr_h1)}')"
   ]
  },
  {
   "cell_type": "code",
   "execution_count": 204,
   "id": "9a884052",
   "metadata": {},
   "outputs": [
    {
     "data": {
      "text/plain": [
       "(1226, 2)"
      ]
     },
     "execution_count": 204,
     "metadata": {},
     "output_type": "execute_result"
    }
   ],
   "source": [
    "df_clean_h1.shape"
   ]
  },
  {
   "cell_type": "markdown",
   "id": "f8a009d8",
   "metadata": {},
   "source": [
    "#### Pearson interpretation and analysis: Correlating device weights with Total GHG emissions\n",
    "- Pearson R = 0.651\n",
    "    - Indicates a relevant positive linear correlation: as device weight increases, the total GHG emissions slightly increase, but the relationship is not strong."
   ]
  },
  {
   "cell_type": "markdown",
   "id": "h1_plot",
   "metadata": {},
   "source": [
    "#### Plot: `gwp_total` vs `weight`"
   ]
  },
  {
   "cell_type": "code",
   "execution_count": 205,
   "id": "h1_scatter_plot",
   "metadata": {},
   "outputs": [
    {
     "data": {
      "image/png": "[encoded data removed]",
      "text/plain": [
       "<Figure size 1000x600 with 1 Axes>"
      ]
     },
     "metadata": {},
     "output_type": "display_data"
    }
   ],
   "source": [
    "plt.figure(figsize=(10, 6))\n",
    "sns.regplot(x='weight', y='gwp_total', data=df_clean_h1,\n",
    "            line_kws={'color': '#0922AF'},\n",
    "            scatter_kws={'alpha': 0.6, 'color': '#13b636'})\n",
    "plt.title('Global Warming Potential (Total) vs. Weight')\n",
    "plt.xlabel('Weight (kg)')\n",
    "plt.ylabel('GWP Total (kg CO2eq)')\n",
    "plt.grid(True)\n",
    "plt.tight_layout()\n",
    "plt.show()"
   ]
  },
  {
   "cell_type": "markdown",
   "id": "0dbd894f",
   "metadata": {},
   "source": [
    "#### Conclusion (H1): Correlating between device weights and Total GHG emissions\n",
    "- Even though the Pearson R value indicates a positive linear correlation, the data points are highly spread, far from the regression line, as you can see in the graph below. "
   ]
  },
  {
   "cell_type": "markdown",
   "id": "47f77456",
   "metadata": {},
   "source": [
    "| Hypothesis                                                                                 | Variable(s) Involved                      | Variable(s) Type(s)     | Test(s)                                                                                  |\n",
    "|--------------------------------------------------------------------------------------------|-------------------------------------------|--------------------------|------------------------------------------------------------------------------------------|\n",
    "| (H2) Assembly location is associated with transportation-related GHG emissions            | `assembly_location_clean`, `gwp_transport_ratio` | Categorical / Continuous | Kruskal-Wallis H-test (non-parametric; suitable for comparing >2 groups with non-normal data) |\n"
   ]
  },
  {
   "cell_type": "markdown",
   "id": "hypothesis_2",
   "metadata": {},
   "source": [
    "- **Insight for Investors:** \n",
    "\n",
    "There are statistically significant differences in transportation-related GHG emissions (gwp_transport_ratio) based on the product’s assembly location."
   ]
  },
  {
   "cell_type": "code",
   "execution_count": 206,
   "id": "24ba87a6",
   "metadata": {},
   "outputs": [
    {
     "data": {
      "text/plain": [
       "assembly_location\n",
       "CN         467\n",
       "China      362\n",
       "EU         153\n",
       "Asia        24\n",
       "KR           7\n",
       "default      2\n",
       "WW           2\n",
       "Name: count, dtype: int64"
      ]
     },
     "execution_count": 206,
     "metadata": {},
     "output_type": "execute_result"
    }
   ],
   "source": [
    "df[\"assembly_location\"].value_counts()"
   ]
  },
  {
   "cell_type": "code",
   "execution_count": 207,
   "id": "9fa2da2f",
   "metadata": {},
   "outputs": [
    {
     "name": "stdout",
     "output_type": "stream",
     "text": [
      "assembly_location_clean\n",
      "China          829\n",
      "Europe         153\n",
      "Asia            24\n",
      "South Korea      7\n",
      "Unknown          4\n",
      "Name: count, dtype: int64\n",
      "Null values on assembly_location: 209\n"
     ]
    }
   ],
   "source": [
    "# Standardize assembly_location values\n",
    "df['assembly_location_clean'] = df['assembly_location'].replace({\n",
    "    'CN': 'China',\n",
    "    'KR': 'South Korea',\n",
    "    'EU': 'Europe',\n",
    "    'default': 'Unknown',\n",
    "    'WW': 'Unknown',\n",
    "})\n",
    "\n",
    "# Optional: verify the transformation\n",
    "print(df['assembly_location_clean'].value_counts())\n",
    "print(\"Null values on assembly_location:\",df['assembly_location_clean'].isnull().sum())"
   ]
  },
  {
   "cell_type": "code",
   "execution_count": 208,
   "id": "037c0489",
   "metadata": {},
   "outputs": [
    {
     "name": "stdout",
     "output_type": "stream",
     "text": [
      "assembly_location_clean\n",
      "China          1038\n",
      "Europe          153\n",
      "Asia             24\n",
      "South Korea       7\n",
      "Unknown           4\n",
      "Name: count, dtype: int64\n"
     ]
    }
   ],
   "source": [
    "# Fill missing values in 'assembly_location_clean' with the most frequent location\n",
    "df['assembly_location_clean'] = df['assembly_location_clean'].fillna('China')\n",
    "\n",
    "# Optional: confirm fill\n",
    "print(df['assembly_location_clean'].value_counts(dropna=False))"
   ]
  },
  {
   "cell_type": "code",
   "execution_count": 209,
   "id": "179922f0",
   "metadata": {},
   "outputs": [
    {
     "data": {
      "text/plain": [
       "np.int64(0)"
      ]
     },
     "execution_count": 209,
     "metadata": {},
     "output_type": "execute_result"
    }
   ],
   "source": [
    "# Fill missing values for gwp_transport_ratio\n",
    "df['gwp_transport_ratio'] = df['gwp_transport_ratio'].fillna(df.groupby('subcategory')['gwp_transport_ratio'].transform('mean'))\n",
    "df['gwp_transport_ratio'] = df['gwp_transport_ratio'].fillna(df.groupby('category')['gwp_transport_ratio'].transform('mean'))\n",
    "df[\"gwp_transport_ratio\"].isnull().sum()"
   ]
  },
  {
   "cell_type": "code",
   "execution_count": 210,
   "id": "cceaf16b",
   "metadata": {},
   "outputs": [
    {
     "name": "stdout",
     "output_type": "stream",
     "text": [
      "Kruskal-Wallis H statistic: 35.1414, p-value: 0.000000\n",
      "                 Asia     China    Europe  South Korea   Unknown\n",
      "Asia         1.000000  0.036711  0.017523     0.078908  1.000000\n",
      "China        0.036711  1.000000  1.000000     0.000044  0.369041\n",
      "Europe       0.017523  1.000000  1.000000     0.000022  0.253368\n",
      "South Korea  0.078908  0.000044  0.000022     1.000000  1.000000\n",
      "Unknown      1.000000  0.369041  0.253368     1.000000  1.000000\n"
     ]
    }
   ],
   "source": [
    "from scipy.stats import kruskal\n",
    "import scikit_posthocs as sp\n",
    "\n",
    "# Ensure no nulls\n",
    "df_clean = df[['assembly_location_clean', 'gwp_transport_ratio']].dropna()\n",
    "\n",
    "# Group data\n",
    "grouped = [group['gwp_transport_ratio'].values for name, group in df_clean.groupby('assembly_location_clean')]\n",
    "\n",
    "# Kruskal-Wallis test\n",
    "stat, p = kruskal(*grouped)\n",
    "print(f\"Kruskal-Wallis H statistic: {stat:.4f}, p-value: {p:.6f}\")\n",
    "\n",
    "# Post-hoc Dunn's test with Bonferroni correction\n",
    "dunn_results = sp.posthoc_dunn(df_clean, val_col='gwp_transport_ratio', group_col='assembly_location_clean', p_adjust='bonferroni')\n",
    "print(dunn_results)\n"
   ]
  },
  {
   "cell_type": "markdown",
   "id": "b90fa34e",
   "metadata": {},
   "source": [
    "Testing Kruskal-Wallis test Strengh"
   ]
  },
  {
   "cell_type": "code",
   "execution_count": 211,
   "id": "83e25351",
   "metadata": {},
   "outputs": [
    {
     "name": "stdout",
     "output_type": "stream",
     "text": [
      "Kruskal-Wallis statistic effect size (epsilon squared): 0.0255\n",
      "Effect size interpretation: Small effect\n"
     ]
    }
   ],
   "source": [
    "# Kruskal-Wallis H-test statistic, number of groups, and sample size\n",
    "H = 35.1414  # Replace this with your actual H-statistic if dynamic\n",
    "k = df['assembly_location_clean'].nunique()\n",
    "n = df['assembly_location_clean'].notna().sum()\n",
    "\n",
    "# Calculate epsilon squared (ε²)\n",
    "epsilon_squared = (H - k + 1) / (n - k)\n",
    "\n",
    "# Determine effect size strength\n",
    "if epsilon_squared < 0.01:\n",
    "    strength = \"Very small or negligible effect\"\n",
    "elif epsilon_squared < 0.06:\n",
    "    strength = \"Small effect\"\n",
    "elif epsilon_squared < 0.14:\n",
    "    strength = \"Medium effect\"\n",
    "else:\n",
    "    strength = \"Large effect\"\n",
    "\n",
    "# Print results\n",
    "print(f\"Kruskal-Wallis statistic effect size (epsilon squared): {epsilon_squared:.4f}\")\n",
    "print(f\"Effect size interpretation: {strength}\")"
   ]
  },
  {
   "cell_type": "markdown",
   "id": "h2_plot",
   "metadata": {},
   "source": [
    "#### Plot: `Local_assembly` vs `gwp_transport_ratio`"
   ]
  },
  {
   "cell_type": "code",
   "execution_count": 212,
   "id": "faedda60",
   "metadata": {},
   "outputs": [
    {
     "data": {
      "image/png": "[encoded data removed]",
      "text/plain": [
       "<Figure size 1000x600 with 1 Axes>"
      ]
     },
     "metadata": {},
     "output_type": "display_data"
    }
   ],
   "source": [
    "plt.figure(figsize=(10, 6))\n",
    "sns.boxplot(data=df_clean, x='assembly_location_clean', y='gwp_transport_ratio')\n",
    "plt.title('Transportation GHG Emissions by Assembly Location')\n",
    "plt.ylabel('GWP Transport Ratio')\n",
    "plt.xlabel('Assembly Location')\n",
    "plt.xticks(rotation=45)\n",
    "plt.tight_layout()\n",
    "plt.show()"
   ]
  },
  {
   "cell_type": "markdown",
   "id": "ae7d21fd",
   "metadata": {},
   "source": [
    "#### Conclusion(H2): Correlating between gwp_transport_ratio and Local_Assembly\n",
    "- The Kruskal-Wallis test results confirm statistically significant differences in transportation emissions across assembly locations, with China standing out as the highest emitter and Europe and South Korea showing the lowest values. Investors should consider these findings when evaluating supply chain sustainability, carbon risk exposure, and the potential impact on ESG performance. Focusing investments on companies with localized or regional manufacturing may deliver both environmental and financial advantages in a carbon-constrained market.\n"
   ]
  },
  {
   "cell_type": "markdown",
   "id": "b37cef1f",
   "metadata": {},
   "source": [
    "| Hypothesis                                                                | Variables(s) Involved               | Variable(s) Type(s)         | Test(s)                  |\n",
    "|---------------------------------------------------------------------------|-------------------------------------|------------------------|-------------------------|\n",
    "| (H3) Higher `gwp_eol_ratio` correlates with lower `gwp_total` | `gwp_eol_ratio`, `gwp_total` | Continuous/ Continuous |Pearson correlation test |"
   ]
  },
  {
   "cell_type": "markdown",
   "id": "hypothesis_3",
   "metadata": {},
   "source": [
    "- **Insight for Investors:** focusing efforts or capital on reducing EoL (End-of-life (EoL) GHG emissions) may not lead to significant improvements in total product emissions. Instead, investors may want to prioritize phases with greater influence on the total GHG profile—such as manufacturing or transportation—to support greener innovations and maximize ESG impact."
   ]
  },
  {
   "cell_type": "code",
   "execution_count": 213,
   "id": "h3_correlation",
   "metadata": {},
   "outputs": [
    {
     "name": "stdout",
     "output_type": "stream",
     "text": [
      "Pearson correlation (gwp_eol_ratio vs gwp_total): -0.108 (p=0.000)\n",
      "Strength: Weak correlation (linear relationship is very weak or negligible)\n"
     ]
    }
   ],
   "source": [
    "# Filling missing values\n",
    "\n",
    "df['gwp_eol_ratio'] = df['gwp_eol_ratio'].fillna(df.groupby('subcategory')['gwp_eol_ratio'].transform('mean'))\n",
    "df['gwp_total'] = df['gwp_total'].fillna(df.groupby('subcategory')['gwp_total'].transform('mean'))\n",
    "df['gwp_eol_ratio'] = df['gwp_eol_ratio'].fillna(df.groupby('category')['gwp_eol_ratio'].transform('mean'))\n",
    "df['gwp_total'] = df['gwp_total'].fillna(df.groupby('category')['gwp_total'].transform('mean'))\n",
    "\n",
    "df_clean_h3 = df[['gwp_eol_ratio', 'gwp_total']].dropna()\n",
    "\n",
    "pearson_corr_h3, pearson_p_h3 = stats.pearsonr(df_clean_h3['gwp_eol_ratio'], df_clean_h3['gwp_total'])\n",
    "print(f'Pearson correlation (gwp_eol_ratio vs gwp_total): {pearson_corr_h3:.3f} (p={pearson_p_h3:.3f})')\n",
    "print(f'Strength: {evaluating_strength(pearson_corr_h3)}')"
   ]
  },
  {
   "cell_type": "markdown",
   "id": "h3_plot",
   "metadata": {},
   "source": [
    "#### Plot: `gwp_eol_ratio` vs `gwp_total`"
   ]
  },
  {
   "cell_type": "code",
   "execution_count": 214,
   "id": "h3_scatter_plot",
   "metadata": {},
   "outputs": [
    {
     "data": {
      "image/png": "[encoded data removed]",
      "text/plain": [
       "<Figure size 1000x600 with 1 Axes>"
      ]
     },
     "metadata": {},
     "output_type": "display_data"
    }
   ],
   "source": [
    "plt.figure(figsize=(10, 6))\n",
    "sns.regplot(x='gwp_total', y='gwp_eol_ratio', data=df_clean_h3)\n",
    "plt.title('Global Warming Potential (End-of-Life Ratio) vs. GWP Total')\n",
    "plt.xlabel('GWP Total (kg CO2eq)')\n",
    "plt.ylabel('GWP End-of-Life Ratio')\n",
    "plt.grid(True)\n",
    "plt.tight_layout()\n",
    "plt.show()"
   ]
  },
  {
   "cell_type": "markdown",
   "id": "9af3408c",
   "metadata": {},
   "source": [
    "#### Conclusion(H3): End-of-life (EoL) GHG emissions (gwp_eol_ratio) and total GHG emissions (gwp_total)\n",
    "- Although the correlation is statistically significant (p < 0.05), the relationship between end-of-life emissions and total GHG emissions is very weak and slightly negative (inversily proportional). This suggests that EoL emissions contribute very little to the overall GHG footprint of the devices.\n"
   ]
  },
  {
   "cell_type": "markdown",
   "id": "bfc4bada",
   "metadata": {},
   "source": []
  }
 ],
 "metadata": {
  "kernelspec": {
   "display_name": "hei_venv",
   "language": "python",
   "name": "python3"
  },
  "language_info": {
   "codemirror_mode": {
    "name": "ipython",
    "version": 3
   },
   "file_extension": ".py",
   "mimetype": "text/x-python",
   "name": "python",
   "nbconvert_exporter": "python",
   "pygments_lexer": "ipython3",
   "version": "3.13.3"
  }
 },
 "nbformat": 4,
 "nbformat_minor": 5
}
