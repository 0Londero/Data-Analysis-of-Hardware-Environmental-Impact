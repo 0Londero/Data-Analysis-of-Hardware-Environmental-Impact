{
 "cells": [
  {
   "metadata": {},
   "cell_type": "markdown",
   "source": "### Project Libraries",
   "id": "c99a0faf42eb535d"
  },
  {
   "cell_type": "code",
   "id": "initial_id",
   "metadata": {
    "collapsed": true,
    "ExecuteTime": {
     "end_time": "2025-05-29T22:16:15.820676Z",
     "start_time": "2025-05-29T22:16:15.817782Z"
    }
   },
   "source": [
    "import matplotlib.pyplot as plt\n",
    "import scipy.stats as stats\n",
    "import seaborn as sns\n",
    "import pandas as pd"
   ],
   "outputs": [],
   "execution_count": 1
  },
  {
   "metadata": {},
   "cell_type": "markdown",
   "source": "### Reading the data",
   "id": "203adaf2cf79053f"
  },
  {
   "metadata": {
    "ExecuteTime": {
     "end_time": "2025-05-29T22:16:15.865656Z",
     "start_time": "2025-05-29T22:16:15.840720Z"
    }
   },
   "cell_type": "code",
   "source": "df = pd.read_csv(r\"../data/boavizta-data-us.csv\")",
   "id": "7b64accb919a7f1a",
   "outputs": [],
   "execution_count": 2
  },
  {
   "metadata": {},
   "cell_type": "markdown",
   "source": "### Showcasing some useful information for better understanding of the data",
   "id": "e90cb2265cfe9d01"
  },
  {
   "metadata": {
    "ExecuteTime": {
     "end_time": "2025-05-29T22:16:16.303698Z",
     "start_time": "2025-05-29T22:16:16.279315Z"
    }
   },
   "cell_type": "code",
   "source": "df.head(3)",
   "id": "4e84d4ff97219aec",
   "outputs": [
    {
     "data": {
      "text/plain": [
       "  manufacturer                                               name   category  \\\n",
       "0        Apple          13-inch MacBook Air (M1 CPU) 256GB - 2020  Workplace   \n",
       "1        Apple          13-inch MacBook Air (M1 CPU) 512GB - 2020  Workplace   \n",
       "2        Apple  13-inch MacBook Air with Retina display (1.1GH...  Workplace   \n",
       "\n",
       "  subcategory  gwp_total  gwp_use_ratio  yearly_tec  lifetime use_location  \\\n",
       "0      Laptop      161.0           0.15         NaN       3.0           WW   \n",
       "1      Laptop      181.0           0.15         NaN       3.0           WW   \n",
       "2      Laptop      174.0           0.15         NaN       3.0           WW   \n",
       "\n",
       "     report_date  ...  added_date       add_method  gwp_transport_ratio  \\\n",
       "0  November 2020  ...  27-05-2022           Manual                 0.08   \n",
       "1  November 2020  ...  27-05-2022           Manual                 0.08   \n",
       "2     March 2020  ...  01-11-2020  Initial Parsing                 0.07   \n",
       "\n",
       "   gwp_eol_ratio  gwp_electronics_ratio gwp_battery_ratio  gwp_hdd_ratio  \\\n",
       "0            NaN                    NaN               NaN            NaN   \n",
       "1            NaN                    NaN               NaN            NaN   \n",
       "2            NaN                    NaN               NaN            NaN   \n",
       "\n",
       "  gwp_ssd_ratio gwp_othercomponents_ratio  comment  \n",
       "0           NaN                       NaN      NaN  \n",
       "1           NaN                       NaN      NaN  \n",
       "2           NaN                       NaN      NaN  \n",
       "\n",
       "[3 rows x 32 columns]"
      ],
      "text/html": [
       "<div>\n",
       "<style scoped>\n",
       "    .dataframe tbody tr th:only-of-type {\n",
       "        vertical-align: middle;\n",
       "    }\n",
       "\n",
       "    .dataframe tbody tr th {\n",
       "        vertical-align: top;\n",
       "    }\n",
       "\n",
       "    .dataframe thead th {\n",
       "        text-align: right;\n",
       "    }\n",
       "</style>\n",
       "<table border=\"1\" class=\"dataframe\">\n",
       "  <thead>\n",
       "    <tr style=\"text-align: right;\">\n",
       "      <th></th>\n",
       "      <th>manufacturer</th>\n",
       "      <th>name</th>\n",
       "      <th>category</th>\n",
       "      <th>subcategory</th>\n",
       "      <th>gwp_total</th>\n",
       "      <th>gwp_use_ratio</th>\n",
       "      <th>yearly_tec</th>\n",
       "      <th>lifetime</th>\n",
       "      <th>use_location</th>\n",
       "      <th>report_date</th>\n",
       "      <th>...</th>\n",
       "      <th>added_date</th>\n",
       "      <th>add_method</th>\n",
       "      <th>gwp_transport_ratio</th>\n",
       "      <th>gwp_eol_ratio</th>\n",
       "      <th>gwp_electronics_ratio</th>\n",
       "      <th>gwp_battery_ratio</th>\n",
       "      <th>gwp_hdd_ratio</th>\n",
       "      <th>gwp_ssd_ratio</th>\n",
       "      <th>gwp_othercomponents_ratio</th>\n",
       "      <th>comment</th>\n",
       "    </tr>\n",
       "  </thead>\n",
       "  <tbody>\n",
       "    <tr>\n",
       "      <th>0</th>\n",
       "      <td>Apple</td>\n",
       "      <td>13-inch MacBook Air (M1 CPU) 256GB - 2020</td>\n",
       "      <td>Workplace</td>\n",
       "      <td>Laptop</td>\n",
       "      <td>161.0</td>\n",
       "      <td>0.15</td>\n",
       "      <td>NaN</td>\n",
       "      <td>3.0</td>\n",
       "      <td>WW</td>\n",
       "      <td>November 2020</td>\n",
       "      <td>...</td>\n",
       "      <td>27-05-2022</td>\n",
       "      <td>Manual</td>\n",
       "      <td>0.08</td>\n",
       "      <td>NaN</td>\n",
       "      <td>NaN</td>\n",
       "      <td>NaN</td>\n",
       "      <td>NaN</td>\n",
       "      <td>NaN</td>\n",
       "      <td>NaN</td>\n",
       "      <td>NaN</td>\n",
       "    </tr>\n",
       "    <tr>\n",
       "      <th>1</th>\n",
       "      <td>Apple</td>\n",
       "      <td>13-inch MacBook Air (M1 CPU) 512GB - 2020</td>\n",
       "      <td>Workplace</td>\n",
       "      <td>Laptop</td>\n",
       "      <td>181.0</td>\n",
       "      <td>0.15</td>\n",
       "      <td>NaN</td>\n",
       "      <td>3.0</td>\n",
       "      <td>WW</td>\n",
       "      <td>November 2020</td>\n",
       "      <td>...</td>\n",
       "      <td>27-05-2022</td>\n",
       "      <td>Manual</td>\n",
       "      <td>0.08</td>\n",
       "      <td>NaN</td>\n",
       "      <td>NaN</td>\n",
       "      <td>NaN</td>\n",
       "      <td>NaN</td>\n",
       "      <td>NaN</td>\n",
       "      <td>NaN</td>\n",
       "      <td>NaN</td>\n",
       "    </tr>\n",
       "    <tr>\n",
       "      <th>2</th>\n",
       "      <td>Apple</td>\n",
       "      <td>13-inch MacBook Air with Retina display (1.1GH...</td>\n",
       "      <td>Workplace</td>\n",
       "      <td>Laptop</td>\n",
       "      <td>174.0</td>\n",
       "      <td>0.15</td>\n",
       "      <td>NaN</td>\n",
       "      <td>3.0</td>\n",
       "      <td>WW</td>\n",
       "      <td>March 2020</td>\n",
       "      <td>...</td>\n",
       "      <td>01-11-2020</td>\n",
       "      <td>Initial Parsing</td>\n",
       "      <td>0.07</td>\n",
       "      <td>NaN</td>\n",
       "      <td>NaN</td>\n",
       "      <td>NaN</td>\n",
       "      <td>NaN</td>\n",
       "      <td>NaN</td>\n",
       "      <td>NaN</td>\n",
       "      <td>NaN</td>\n",
       "    </tr>\n",
       "  </tbody>\n",
       "</table>\n",
       "<p>3 rows × 32 columns</p>\n",
       "</div>"
      ]
     },
     "execution_count": 3,
     "metadata": {},
     "output_type": "execute_result"
    }
   ],
   "execution_count": 3
  },
  {
   "metadata": {
    "ExecuteTime": {
     "end_time": "2025-05-29T22:16:16.388797Z",
     "start_time": "2025-05-29T22:16:16.378036Z"
    }
   },
   "cell_type": "code",
   "source": "df.info()",
   "id": "2afa812aaebe29cb",
   "outputs": [
    {
     "name": "stdout",
     "output_type": "stream",
     "text": [
      "<class 'pandas.core.frame.DataFrame'>\n",
      "RangeIndex: 1226 entries, 0 to 1225\n",
      "Data columns (total 32 columns):\n",
      " #   Column                     Non-Null Count  Dtype  \n",
      "---  ------                     --------------  -----  \n",
      " 0   manufacturer               1226 non-null   object \n",
      " 1   name                       1226 non-null   object \n",
      " 2   category                   1226 non-null   object \n",
      " 3   subcategory                1226 non-null   object \n",
      " 4   gwp_total                  1226 non-null   float64\n",
      " 5   gwp_use_ratio              1151 non-null   float64\n",
      " 6   yearly_tec                 734 non-null    float64\n",
      " 7   lifetime                   1193 non-null   float64\n",
      " 8   use_location               1113 non-null   object \n",
      " 9   report_date                1211 non-null   object \n",
      " 10  sources                    1226 non-null   object \n",
      " 11  sources_hash               1226 non-null   object \n",
      " 12  gwp_error_ratio            1022 non-null   float64\n",
      " 13  gwp_manufacturing_ratio    757 non-null    float64\n",
      " 14  weight                     1035 non-null   float64\n",
      " 15  assembly_location          1017 non-null   object \n",
      " 16  screen_size                873 non-null    float64\n",
      " 17  server_type                64 non-null     object \n",
      " 18  hard_drive                 153 non-null    object \n",
      " 19  memory                     61 non-null     float64\n",
      " 20  number_cpu                 53 non-null     float64\n",
      " 21  height                     0 non-null      float64\n",
      " 22  added_date                 1226 non-null   object \n",
      " 23  add_method                 1226 non-null   object \n",
      " 24  gwp_transport_ratio        487 non-null    float64\n",
      " 25  gwp_eol_ratio              444 non-null    float64\n",
      " 26  gwp_electronics_ratio      10 non-null     float64\n",
      " 27  gwp_battery_ratio          0 non-null      float64\n",
      " 28  gwp_hdd_ratio              0 non-null      float64\n",
      " 29  gwp_ssd_ratio              10 non-null     float64\n",
      " 30  gwp_othercomponents_ratio  10 non-null     float64\n",
      " 31  comment                    17 non-null     object \n",
      "dtypes: float64(18), object(14)\n",
      "memory usage: 306.6+ KB\n"
     ]
    }
   ],
   "execution_count": 4
  },
  {
   "metadata": {
    "ExecuteTime": {
     "end_time": "2025-05-29T22:16:16.521219Z",
     "start_time": "2025-05-29T22:16:16.517037Z"
    }
   },
   "cell_type": "code",
   "source": "df.columns",
   "id": "58ffe6b81019e102",
   "outputs": [
    {
     "data": {
      "text/plain": [
       "Index(['manufacturer', 'name', 'category', 'subcategory', 'gwp_total',\n",
       "       'gwp_use_ratio', 'yearly_tec', 'lifetime', 'use_location',\n",
       "       'report_date', 'sources', 'sources_hash', 'gwp_error_ratio',\n",
       "       'gwp_manufacturing_ratio', 'weight', 'assembly_location', 'screen_size',\n",
       "       'server_type', 'hard_drive', 'memory', 'number_cpu', 'height',\n",
       "       'added_date', 'add_method', 'gwp_transport_ratio', 'gwp_eol_ratio',\n",
       "       'gwp_electronics_ratio', 'gwp_battery_ratio', 'gwp_hdd_ratio',\n",
       "       'gwp_ssd_ratio', 'gwp_othercomponents_ratio', 'comment'],\n",
       "      dtype='object')"
      ]
     },
     "execution_count": 5,
     "metadata": {},
     "output_type": "execute_result"
    }
   ],
   "execution_count": 5
  },
  {
   "metadata": {},
   "cell_type": "markdown",
   "source": [
    "### Cleaning the data\n",
    "1. Dropping some columns that will not be used for the analysis"
   ],
   "id": "28dd0c6d99d986ad"
  },
  {
   "metadata": {
    "ExecuteTime": {
     "end_time": "2025-05-29T22:16:16.639225Z",
     "start_time": "2025-05-29T22:16:16.635575Z"
    }
   },
   "cell_type": "code",
   "source": "df.drop(columns = ['sources', 'server_type', 'hard_drive', 'memory', 'number_cpu', 'height', 'added_date', 'add_method'], inplace=True)",
   "id": "a56a5add150d8e79",
   "outputs": [],
   "execution_count": 6
  },
  {
   "metadata": {},
   "cell_type": "markdown",
   "source": [
    "## MANUFACTURERS\n",
    "- Focus: Emissions reduction, lifecycle design and production optimization.\n",
    "\n",
    "#### The function bellow is being used to evaluate the Strength of the tests. 👇"
   ],
   "id": "8ccb2a40583c292a"
  },
  {
   "metadata": {
    "ExecuteTime": {
     "end_time": "2025-05-29T22:16:16.754259Z",
     "start_time": "2025-05-29T22:16:16.749195Z"
    }
   },
   "cell_type": "code",
   "source": [
    "def evaluating_strength(correlation_coefficient):\n",
    "    abs_r = abs(correlation_coefficient)\n",
    "    if correlation_coefficient == 0:\n",
    "        return \"No correlation\"\n",
    "    elif 0 < abs_r < 0.3:\n",
    "        return \"Weak correlation (linear relationship is very weak or negligible)\"\n",
    "    elif 0.3 <= abs_r < 0.5:\n",
    "        return \"Moderate correlation\"\n",
    "    elif 0.5 <= abs_r < 0.7:\n",
    "        return \"Strong correlation\"\n",
    "    elif 0.7 <= abs_r < 1:\n",
    "        return \"Very strong correlation\"\n",
    "    elif abs_r == 1:\n",
    "        return \"Perfect correlation\"\n",
    "    else:\n",
    "        return \"Invalid value for r\""
   ],
   "id": "6d75cf2db77d1b47",
   "outputs": [],
   "execution_count": 7
  },
  {
   "metadata": {},
   "cell_type": "markdown",
   "source": [
    "| Hypothesis                                                                | Variables(s) Involved               | Variable Types         | Tests                  |\n",
    "|---------------------------------------------------------------------------|-------------------------------------|------------------------|-------------------------|\n",
    "| (H1) Higher product weight correlates with higher manufacturing emissions | `weight`, `gwp_manufacturing_ratio` | Continuous/ Continuous |Pearson correlation test |"
   ],
   "id": "35769f51f959652a"
  },
  {
   "metadata": {
    "ExecuteTime": {
     "end_time": "2025-05-29T22:16:16.811511Z",
     "start_time": "2025-05-29T22:16:16.803277Z"
    }
   },
   "cell_type": "code",
   "source": "df.groupby('subcategory')['weight'].apply(lambda x: x.isna().all())",
   "id": "190ac19735d9d5f0",
   "outputs": [
    {
     "data": {
      "text/plain": [
       "subcategory\n",
       "Converged         False\n",
       "Converged Edge    False\n",
       "Desktop           False\n",
       "Entertainment      True\n",
       "EntertainmentT     True\n",
       "Gaming            False\n",
       "Hard drive         True\n",
       "IoT               False\n",
       "Laptop            False\n",
       "Monitor           False\n",
       "Multimedia        False\n",
       "Network           False\n",
       "Printer            True\n",
       "SAN/NAS            True\n",
       "Server            False\n",
       "Smartphone        False\n",
       "Tablet            False\n",
       "Thin Client       False\n",
       "Thin client       False\n",
       "Workstation        True\n",
       "Name: weight, dtype: bool"
      ]
     },
     "execution_count": 8,
     "metadata": {},
     "output_type": "execute_result"
    }
   ],
   "execution_count": 8
  },
  {
   "metadata": {
    "ExecuteTime": {
     "end_time": "2025-05-29T22:16:16.870477Z",
     "start_time": "2025-05-29T22:16:16.862173Z"
    }
   },
   "cell_type": "code",
   "source": "df.groupby('subcategory')['gwp_manufacturing_ratio'].apply(lambda x: x.isna().all())",
   "id": "66d5ca982810a1d3",
   "outputs": [
    {
     "data": {
      "text/plain": [
       "subcategory\n",
       "Converged         False\n",
       "Converged Edge    False\n",
       "Desktop           False\n",
       "Entertainment      True\n",
       "EntertainmentT    False\n",
       "Gaming            False\n",
       "Hard drive         True\n",
       "IoT               False\n",
       "Laptop            False\n",
       "Monitor           False\n",
       "Multimedia        False\n",
       "Network           False\n",
       "Printer            True\n",
       "SAN/NAS            True\n",
       "Server            False\n",
       "Smartphone        False\n",
       "Tablet            False\n",
       "Thin Client       False\n",
       "Thin client       False\n",
       "Workstation       False\n",
       "Name: gwp_manufacturing_ratio, dtype: bool"
      ]
     },
     "execution_count": 9,
     "metadata": {},
     "output_type": "execute_result"
    }
   ],
   "execution_count": 9
  },
  {
   "metadata": {},
   "cell_type": "markdown",
   "source": "- The subcategories marked as `True` above 👆 indicate cases where all `weight` and `gwp_manufacturing_ratio` values are missing.",
   "id": "3655fdb7e0f51665"
  },
  {
   "metadata": {
    "ExecuteTime": {
     "end_time": "2025-05-29T22:16:16.943198Z",
     "start_time": "2025-05-29T22:16:16.939784Z"
    }
   },
   "cell_type": "code",
   "source": [
    "x = df['weight'].isnull().sum()\n",
    "xx = df['gwp_manufacturing_ratio'].isnull().sum()\n",
    "print(x, xx)"
   ],
   "id": "54d02fd232b939d4",
   "outputs": [
    {
     "name": "stdout",
     "output_type": "stream",
     "text": [
      "191 469\n"
     ]
    }
   ],
   "execution_count": 10
  },
  {
   "metadata": {},
   "cell_type": "markdown",
   "source": "- To handle the missing values in the columns shown above 👆, we will fill them using the mean value within each respective subcategory. However, in some subcategories, all entries for weight and gwp_manufacturing_ratio are null. In such cases, we will use the average values calculated at the category level 👇 to fill the remaining missing data.",
   "id": "c597558bca4a49f"
  },
  {
   "metadata": {
    "ExecuteTime": {
     "end_time": "2025-05-29T22:16:17.040467Z",
     "start_time": "2025-05-29T22:16:17.034238Z"
    }
   },
   "cell_type": "code",
   "source": [
    "## Subcategory\n",
    "df['weight'] = df['weight'].fillna(df.groupby('subcategory')['weight'].transform('mean'))\n",
    "\n",
    "df['gwp_manufacturing_ratio'] = df['gwp_manufacturing_ratio'].fillna(df.groupby('subcategory')['gwp_manufacturing_ratio'].transform('mean'))\n",
    "\n",
    "# Number of missing data\n",
    "x = df['weight'].isnull().sum()\n",
    "xx = df['gwp_manufacturing_ratio'].isnull().sum()\n",
    "print(x, xx)"
   ],
   "id": "87cf53df860e0e25",
   "outputs": [
    {
     "name": "stdout",
     "output_type": "stream",
     "text": [
      "29 24\n"
     ]
    }
   ],
   "execution_count": 11
  },
  {
   "metadata": {
    "ExecuteTime": {
     "end_time": "2025-05-29T22:16:17.202112Z",
     "start_time": "2025-05-29T22:16:17.195744Z"
    }
   },
   "cell_type": "code",
   "source": [
    "## Category\n",
    "df['weight'] = df['weight'].fillna(df.groupby('category')['weight'].transform('mean'))\n",
    "\n",
    "df['gwp_manufacturing_ratio'] = df['gwp_manufacturing_ratio'].fillna(df.groupby('category')['gwp_manufacturing_ratio'].transform('mean'))\n",
    "\n",
    "# Number of missing data\n",
    "x = df['weight'].isnull().sum()\n",
    "xx = df['gwp_manufacturing_ratio'].isnull().sum()\n",
    "print(x, xx)"
   ],
   "id": "3555b09394ee0b6c",
   "outputs": [
    {
     "name": "stdout",
     "output_type": "stream",
     "text": [
      "0 0\n"
     ]
    }
   ],
   "execution_count": 12
  },
  {
   "metadata": {
    "ExecuteTime": {
     "end_time": "2025-05-29T22:16:17.284542Z",
     "start_time": "2025-05-29T22:16:17.278908Z"
    }
   },
   "cell_type": "code",
   "source": [
    "r1, p1 = stats.pearsonr(df['weight'], df['gwp_manufacturing_ratio'])\n",
    "\n",
    "print (f\"\\nPearson correlation coefficient(r)    -> {r1}\\n{evaluating_strength(r1)}\\nPvalue     ->{p1:.4f}\")"
   ],
   "id": "2d67f2c899f21b51",
   "outputs": [
    {
     "name": "stdout",
     "output_type": "stream",
     "text": [
      "\n",
      "Pearson correlation coefficient(r)    -> -0.42449000501191486\n",
      "Moderate correlation\n",
      "Pvalue     ->0.0000\n"
     ]
    }
   ],
   "execution_count": 13
  },
  {
   "metadata": {},
   "cell_type": "markdown",
   "source": [
    "- Pearson R = -0.42\n",
    "    - Indicates a moderate negative correlation: as the product weight increases, the share of emissions from manufacturing tends to decrease.\n",
    "\n",
    "- P-value = 0\n",
    "    - The correlation is statistically significant, meaning it’s very unlikely to have occurred by chance."
   ],
   "id": "86584d3839c31b0c"
  },
  {
   "metadata": {
    "ExecuteTime": {
     "end_time": "2025-05-29T22:16:17.569762Z",
     "start_time": "2025-05-29T22:16:17.347113Z"
    }
   },
   "cell_type": "code",
   "source": [
    "sns.regplot(x='weight', y='gwp_manufacturing_ratio', data=df,\n",
    "            line_kws={'color': '#6cd4c5'},\n",
    "            scatter_kws={'alpha': 0.6, 'color': '#e27c7c'})\n",
    "\n",
    "plt.title(f'Relationship Between Product Weight and Manufacturing Emissions\\nPearson R = {r1:.2f} | P-value = {p1:.2f}', fontsize=13)\n",
    "plt.xlabel('Product Weight (kg)', fontsize=12)\n",
    "plt.ylabel('GHG Emissions from Manufacturing (KgCO²)', fontsize=12)\n",
    "plt.show()"
   ],
   "id": "fd66cd233422be4b",
   "outputs": [
    {
     "data": {
      "text/plain": [
       "<Figure size 640x480 with 1 Axes>"
      ],
      "image/png": "[encoded data removed]"
     },
     "metadata": {},
     "output_type": "display_data"
    }
   ],
   "execution_count": 14
  },
  {
   "metadata": {},
   "cell_type": "markdown",
   "source": [
    "Lighter products tend to have a larger portion of their carbon footprint coming from the manufacturing phase, while heavier products likely have a more balanced emission distribution across other phases like usage and transportation.\n",
    "\n",
    "__MANUFACTURERS__ Should focus on optimizing the manufacturing process for lightweight devices, since this phase contributes proportionally more to their emissions."
   ],
   "id": "5f187154e9ba5610"
  },
  {
   "metadata": {},
   "cell_type": "markdown",
   "source": [
    "| Hypothesis                                                                | Variables(s) Involved               | Variable Types         | Tests                  |\n",
    "|---------------------------------------------------------------------------|-------------------------------------|------------------------|-------------------------|\n",
    "| (H2) Devices from different manufacturers have different average GHG emissions.| `manufacturer`, `gwp_total` | Nominal/ Continuous |ANOVA |"
   ],
   "id": "1ed08d3cc62ae58e"
  },
  {
   "metadata": {},
   "cell_type": "markdown",
   "source": "- Checking if there's any null value is those variables",
   "id": "e14b832d1bffbd33"
  },
  {
   "metadata": {
    "ExecuteTime": {
     "end_time": "2025-05-29T22:47:02.799914Z",
     "start_time": "2025-05-29T22:47:02.796694Z"
    }
   },
   "cell_type": "code",
   "source": [
    "x = df['manufacturer'].isnull().sum()\n",
    "xx = df['gwp_total'].isnull().sum()\n",
    "print(x, xx)"
   ],
   "id": "52a066f71f02c3d5",
   "outputs": [
    {
     "name": "stdout",
     "output_type": "stream",
     "text": [
      "0 0\n"
     ]
    }
   ],
   "execution_count": 39
  },
  {
   "metadata": {
    "ExecuteTime": {
     "end_time": "2025-05-29T22:55:00.740295Z",
     "start_time": "2025-05-29T22:55:00.733396Z"
    }
   },
   "cell_type": "code",
   "source": [
    "from scipy.stats import f_oneway\n",
    "\n",
    "groups = [g['gwp_total'] for _, g in df.groupby('manufacturer')]\n",
    "f, p = f_oneway(*groups)\n",
    "\n",
    "print(f\"F = {f:.2f}, p-value = {p:.4f}\")"
   ],
   "id": "b1852304f17402c6",
   "outputs": [
    {
     "name": "stdout",
     "output_type": "stream",
     "text": [
      "F = 11.04, p-value = 0.0000\n"
     ]
    }
   ],
   "execution_count": 43
  }
 ],
 "metadata": {
  "kernelspec": {
   "display_name": "Python 3",
   "language": "python",
   "name": "python3"
  },
  "language_info": {
   "codemirror_mode": {
    "name": "ipython",
    "version": 2
   },
   "file_extension": ".py",
   "mimetype": "text/x-python",
   "name": "python",
   "nbconvert_exporter": "python",
   "pygments_lexer": "ipython2",
   "version": "2.7.6"
  }
 },
 "nbformat": 4,
 "nbformat_minor": 5
}
